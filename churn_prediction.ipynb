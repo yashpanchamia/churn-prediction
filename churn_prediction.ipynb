{
 "cells": [
  {
   "cell_type": "markdown",
   "metadata": {},
   "source": [
    "# Introduction to Data Science\n",
    "## Homework 3 Solutions"
   ]
  },
  {
   "cell_type": "markdown",
   "metadata": {},
   "source": [
    "### Part 1 - Preparing a Training Set and Training a Decision Tree (Total 10 Points)\n",
    "This is a hands-on task where we build a predictive model using Decision Trees discussed in class. For this part, we will be using the data in `cell2cell_data.csv`.\n",
    "\n",
    "These historical data consist of 39,859 customers: 19,901 customers that churned (i.e., left the company) and 19,958 that did not churn (see the `\"churndep\"` variable). Here are the data set's 11 possible predictor variables for churning behavior: \n",
    "\n",
    "```\n",
    "Pos.  Var. Name  Var. Description\n",
    "----- ---------- --------------------------------------------------------------\n",
    "1     revenue    Mean monthly revenue in dollars\n",
    "2     outcalls   Mean number of outbound voice calls\n",
    "3     incalls    Mean number of inbound voice calls\n",
    "4     months     Months in Service\n",
    "5     eqpdays    Number of days the customer has had his/her current equipment\n",
    "6     webcap     Handset is web capable\n",
    "7     marryyes   Married (1=Yes; 0=No)\n",
    "8     travel     Has traveled to non-US country (1=Yes; 0=No)\n",
    "9     pcown      Owns a personal computer (1=Yes; 0=No)\n",
    "10    creditcd   Possesses a credit card (1=Yes; 0=No)\n",
    "11    retcalls   Number of calls previously made to retention team\n",
    "```\n",
    "\n",
    "The 12th column, the dependent variable `\"churndep\"`, equals 1 if the customer churned, and 0 otherwise. "
   ]
  },
  {
   "cell_type": "markdown",
   "metadata": {},
   "source": [
    "1\\. Load the data and prepare it for modeling. Note that the features are already processed for you, so the only thing needed here is split the data into training and testing. Use pandas to create two data frames: train_df and test_df, where train_df has 80% of the data chosen uniformly at random without replacement (test_df should have the other 20%). Also, make sure to write your own code to do the splits. You may use any random() function numpy but do not use the data splitting functions from Sklearn.<br><br>\n",
    "\n",
    "(2 Points)"
   ]
  },
  {
   "cell_type": "code",
   "execution_count": 1,
   "metadata": {
    "collapsed": true
   },
   "outputs": [],
   "source": [
    "# importing the required package\n",
    "import pandas as pd\n",
    "\n",
    "# loading the data set into a Pandas DataFrame\n",
    "df = pd.read_csv('cell2cell_data.csv')\n",
    "\n",
    "# spliting the data into training and testing\n",
    "train_df = df.sample(frac=0.8)\n",
    "test_df = df.loc[~df.index.isin(train_df.index)]"
   ]
  },
  {
   "cell_type": "markdown",
   "metadata": {},
   "source": [
    "2\\. If we had to, how would we prove to ourselves or a colleague that our data was indeed randomly sampled on X? And by prove, I mean empirically, not just showing this person our code. Don't actually do the work, just describe in your own words a test you could here. Hint: think about this in terms of selection bias and use notes from our 2nd lecture.\n",
    "\n",
    "(1 Point)"
   ]
  },
  {
   "cell_type": "markdown",
   "metadata": {},
   "source": [
    "<p>\n",
    "<span style=\"color:blue\">\n",
    "A test for sampling bias can be performed to prove that our data was randomly sampled, which basically tests if the sample data is actually a representative of the entire dataset, and there is no bias in selection of the sample data. There are many tests that can be used to prove the randomness of the data. One of them is Heckman correction which is very useful to test for a sample selection bias. Although not required here, but it also provides a way to correct the non-randomly selected sampled data.\n",
    "</span>\n",
    "</p>"
   ]
  },
  {
   "cell_type": "markdown",
   "metadata": {},
   "source": [
    "3\\. Now build and train a decision tree classifier using `DecisionTreeClassifier()` [(manual page)](http://scikit-learn.org/stable/modules/generated/sklearn.tree.DecisionTreeClassifier.html) on train_df to predict the `\"churndep\"` target variable. Make sure to use `criterion='entropy'` when instantiating an instance of `DecisionTreeClassifier()`. For all other settings you should use all of the default options.\n",
    "\n",
    "(1 Point)"
   ]
  },
  {
   "cell_type": "code",
   "execution_count": 2,
   "metadata": {},
   "outputs": [
    {
     "data": {
      "text/plain": [
       "DecisionTreeClassifier(class_weight=None, criterion='entropy', max_depth=None,\n",
       "            max_features=None, max_leaf_nodes=None,\n",
       "            min_impurity_split=1e-07, min_samples_leaf=1,\n",
       "            min_samples_split=2, min_weight_fraction_leaf=0.0,\n",
       "            presort=False, random_state=None, splitter='best')"
      ]
     },
     "execution_count": 2,
     "metadata": {},
     "output_type": "execute_result"
    }
   ],
   "source": [
    "from sklearn.tree import DecisionTreeClassifier\n",
    "\n",
    "# building a decison tree classifier\n",
    "dtc = DecisionTreeClassifier(criterion='entropy')\n",
    "\n",
    "train_data = train_df.T[:11].T\n",
    "train_target = train_df.churndep\n",
    "\n",
    "# training the decision tree classifier\n",
    "dtc.fit(train_data, train_target)"
   ]
  },
  {
   "cell_type": "markdown",
   "metadata": {},
   "source": [
    "4\\. Using the resulting model from 2.3, show a bar plot of feature names and their feature importance (hint: check the attributes of the `DecisionTreeClassifier()` object directly in IPython or check the manual!).\n",
    "\n",
    "(3 Points)"
   ]
  },
  {
   "cell_type": "code",
   "execution_count": 3,
   "metadata": {},
   "outputs": [
    {
     "data": {
      "image/png": "[encoded data removed]",
      "text/plain": [
       "<matplotlib.figure.Figure at 0x24bfe9f7978>"
      ]
     },
     "metadata": {},
     "output_type": "display_data"
    }
   ],
   "source": [
    "# importing the required package\n",
    "import matplotlib.pyplot as plt\n",
    "\n",
    "features = range(len(df.columns[:11]))\n",
    "\n",
    "# print(dtc.feature_importances_)\n",
    "\n",
    "# creating the bar plot of feature names and their feature importance\n",
    "plt.bar(features, dtc.feature_importances_)\n",
    "plt.xticks(features, df.columns, rotation=45)\n",
    "plt.title('Feature Importance')\n",
    "\n",
    "# showing the bar plot\n",
    "plt.show()"
   ]
  },
  {
   "cell_type": "markdown",
   "metadata": {},
   "source": [
    "5\\. Is the relationship between the top 3 most important features (as measured here) negative or positive? If your marketing director asked you to explain the top 3 drivers of churn, how would you interpret the relationship between these 3 features and the churn outcome?  What \"real-life\" connection can you draw between each variable and churn?\n",
    "\n",
    "(2 Points)"
   ]
  },
  {
   "cell_type": "code",
   "execution_count": 4,
   "metadata": {
    "scrolled": true
   },
   "outputs": [
    {
     "data": {
      "text/html": [
       "<div>\n",
       "<style>\n",
       "    .dataframe thead tr:only-child th {\n",
       "        text-align: right;\n",
       "    }\n",
       "\n",
       "    .dataframe thead th {\n",
       "        text-align: left;\n",
       "    }\n",
       "\n",
       "    .dataframe tbody tr th {\n",
       "        vertical-align: top;\n",
       "    }\n",
       "</style>\n",
       "<table border=\"1\" class=\"dataframe\">\n",
       "  <thead>\n",
       "    <tr style=\"text-align: right;\">\n",
       "      <th></th>\n",
       "      <th>revenue</th>\n",
       "      <th>outcalls</th>\n",
       "      <th>eqpdays</th>\n",
       "      <th>churndep</th>\n",
       "    </tr>\n",
       "  </thead>\n",
       "  <tbody>\n",
       "    <tr>\n",
       "      <th>revenue</th>\n",
       "      <td>1.000000</td>\n",
       "      <td>0.500870</td>\n",
       "      <td>-0.221958</td>\n",
       "      <td>-0.013566</td>\n",
       "    </tr>\n",
       "    <tr>\n",
       "      <th>outcalls</th>\n",
       "      <td>0.500870</td>\n",
       "      <td>1.000000</td>\n",
       "      <td>-0.243999</td>\n",
       "      <td>-0.037233</td>\n",
       "    </tr>\n",
       "    <tr>\n",
       "      <th>eqpdays</th>\n",
       "      <td>-0.221958</td>\n",
       "      <td>-0.243999</td>\n",
       "      <td>1.000000</td>\n",
       "      <td>0.112731</td>\n",
       "    </tr>\n",
       "    <tr>\n",
       "      <th>churndep</th>\n",
       "      <td>-0.013566</td>\n",
       "      <td>-0.037233</td>\n",
       "      <td>0.112731</td>\n",
       "      <td>1.000000</td>\n",
       "    </tr>\n",
       "  </tbody>\n",
       "</table>\n",
       "</div>"
      ],
      "text/plain": [
       "           revenue  outcalls   eqpdays  churndep\n",
       "revenue   1.000000  0.500870 -0.221958 -0.013566\n",
       "outcalls  0.500870  1.000000 -0.243999 -0.037233\n",
       "eqpdays  -0.221958 -0.243999  1.000000  0.112731\n",
       "churndep -0.013566 -0.037233  0.112731  1.000000"
      ]
     },
     "execution_count": 4,
     "metadata": {},
     "output_type": "execute_result"
    }
   ],
   "source": [
    "data = df.corr()\n",
    "\n",
    "top_features = ['revenue','outcalls','eqpdays','churndep']\n",
    "\n",
    "for feature in data.index.values:\n",
    "    if feature not in top_features:\n",
    "        # removing the columns which are not in top 3 most important features\n",
    "        del data[feature]\n",
    "        # removing the rows which are not in top 3 most important features\n",
    "        data.drop(feature, inplace=True)\n",
    "\n",
    "data"
   ]
  },
  {
   "cell_type": "markdown",
   "metadata": {},
   "source": [
    "<p>\n",
    "<span style=\"color:blue\">\n",
    "The relationship between revenue and outcalls is positive, between revenue and eqpdays in negative, and that between outcalls and eqpdays is also negative. The customer that are making more outgoing calls contribute more to the revenue, and also they have recently got their current equiptment, whereas those customers who are contributing less in revenue are using their current equipment from many months (or years in some cases). The customers who having recently got their current equipment (i.e. they are using their current equipment from relatively less number of days) are making high number of outgoing calls. Although the magnitude of the correlation of these top 3 features with churndep is very less, indicating that there is a very less relationship among them. <br> <br>\n",
    "Considering the data is from a telecom/carrier provider, a customer who makes high outgoing calls and is in high revenue, does not churn the provider as long as the service is good, whereas the people in low revenue may churn the provider due to high service charges. Similarly the customers who recently got their current equipment are highly unlikely to churn the provider.\n",
    "</span>\n",
    "</p>"
   ]
  },
  {
   "cell_type": "markdown",
   "metadata": {},
   "source": [
    "6\\. Using the classifier built in 2.3, try predicting `\"churndep\"` on both the train_df and test_df data sets. What is the accuracy on each?\n",
    "\n",
    "(1 Point)"
   ]
  },
  {
   "cell_type": "code",
   "execution_count": 5,
   "metadata": {},
   "outputs": [
    {
     "name": "stdout",
     "output_type": "stream",
     "text": [
      "The accuracy on train_df is: 99.987455703\n",
      "The accuracy on test_df is: 53.0481685901\n"
     ]
    }
   ],
   "source": [
    "# importing the required package\n",
    "from sklearn.metrics import accuracy_score\n",
    "\n",
    "test_data = test_df.T[:11].T\n",
    "test_target = test_df.churndep\n",
    "\n",
    "train_target_predict = dtc.predict(train_data)\n",
    "test_target_predict = dtc.predict(test_data)\n",
    "\n",
    "# calculating the accuracy on training and testing data sets\n",
    "train_accuracy = accuracy_score(train_target, train_target_predict)\n",
    "test_accuracy = accuracy_score(test_target, test_target_predict)\n",
    "\n",
    "print(\"The accuracy on train_df is:\", train_accuracy*100)\n",
    "print(\"The accuracy on test_df is:\", test_accuracy*100)"
   ]
  },
  {
   "cell_type": "markdown",
   "metadata": {},
   "source": [
    "### Part 2 - Finding a Good Decision Tree (Total 10 Points)\n",
    "The default options for your decision tree may not be optimal. We need to analyze whether tuning the parameters can improve the accuracy of the classifier.  For the following options `min_samples_split` and `min_samples_leaf`:"
   ]
  },
  {
   "cell_type": "markdown",
   "metadata": {},
   "source": [
    "1\\. Generate a list of 10 values of each for the parameters min_samples_split and min_samples_leaf. \n",
    "\n",
    "(1 Point)"
   ]
  },
  {
   "cell_type": "code",
   "execution_count": 6,
   "metadata": {},
   "outputs": [
    {
     "name": "stdout",
     "output_type": "stream",
     "text": [
      "Values for min_samples_split: [160, 240, 320, 400, 480, 560, 640, 720, 800, 880]\n",
      "Values for min_samples_leaf: [40, 80, 120, 160, 200, 240, 280, 320, 360, 400]\n"
     ]
    }
   ],
   "source": [
    "min_split = [i*80 for i in range(2,12)]\n",
    "min_leaf = [i*40 for i in range(1,11)]\n",
    "\n",
    "print(\"Values for min_samples_split:\", min_split)\n",
    "print(\"Values for min_samples_leaf:\", min_leaf)"
   ]
  },
  {
   "cell_type": "markdown",
   "metadata": {},
   "source": [
    "2\\. Explain in words your reasoning for choosing the above ranges.\n",
    "\n",
    "(1 Points)"
   ]
  },
  {
   "cell_type": "markdown",
   "metadata": {},
   "source": [
    "<p>\n",
    "<span style=\"color:blue\">\n",
    "There are a total of 31,887 observations in the training set, and 11 features (or independent variables) in the cell2cell_data.csv dataset. This gave me a range of values till about 3000. I now tested these values to further narrow this range and determine optimal values for the parameters min_samples_split and min_samples_leaf, which lead me to good accuracy scores at about a configuration of 1% to 2% of the total number of obervations which is equivalent to approximately 200 to 700.\n",
    "</span>\n",
    "</p>"
   ]
  },
  {
   "cell_type": "markdown",
   "metadata": {},
   "source": [
    "3\\. For each combination of values in 3.1 (there should be 100), build a new classifier and check the classifier's accuracy on the test data. Plot the test set accuracy for these options. Use the values of `min_samples_split` as the x-axis and generate a new series (line) for each of `min_samples_leaf`.\n",
    "\n",
    "(5 Points)"
   ]
  },
  {
   "cell_type": "code",
   "execution_count": 29,
   "metadata": {},
   "outputs": [
    {
     "data": {
      "image/png": "[encoded data removed]",
      "text/plain": [
       "<matplotlib.figure.Figure at 0x2beb960b278>"
      ]
     },
     "metadata": {},
     "output_type": "display_data"
    },
    {
     "name": "stdout",
     "output_type": "stream",
     "text": [
      "Best accuracy is 60.0852985449 at configuration: min_samples_split = 640 and min_samples_leaf = 280\n"
     ]
    }
   ],
   "source": [
    "import matplotlib.pyplot as plt\n",
    "from sklearn.tree import DecisionTreeClassifier\n",
    "from sklearn.metrics import accuracy_score\n",
    "\n",
    "train_data = train_df.T[:11].T\n",
    "train_target = train_df.churndep\n",
    "best_accuracy = 0\n",
    "\n",
    "test_data = test_df.T[:11].T\n",
    "test_target = test_df.churndep\n",
    "\n",
    "for leaf in min_leaf:\n",
    "    test_accuracy = []\n",
    "    for split in min_split:\n",
    "        \n",
    "        dt = DecisionTreeClassifier(criterion = 'entropy', min_samples_split = split, min_samples_leaf = leaf)\n",
    "        dt.fit(train_data, train_target)\n",
    "        \n",
    "        test_target_predict = dt.predict(test_data)\n",
    "        score = accuracy_score(test_target, test_target_predict)\n",
    "        test_accuracy.append(score)\n",
    "        if score > best_accuracy:\n",
    "            best_accuracy = score\n",
    "            best_split = split\n",
    "            best_leaf = leaf\n",
    "        \n",
    "    plt.plot(min_split, test_accuracy, label=leaf)\n",
    "\n",
    "plt.xlabel(\"min_samples_split\")\n",
    "plt.legend(bbox_to_anchor=(1, 1), loc=2)\n",
    "plt.show()\n",
    "\n",
    "print(\"Best accuracy is \" + str(best_accuracy*100) + \" at configuration: min_samples_split = \" + str(best_split) + \" and min_samples_leaf = \" + str(best_leaf))\n"
   ]
  },
  {
   "cell_type": "markdown",
   "metadata": {},
   "source": [
    "4\\. Which configuration returns the best accuracy? What is this accuracy? (Note, if you don't see much variation in the test set accuracy across values of min_samples_split or min_samples_leaf, try redoing the above steps with a different range of values).\n",
    "\n",
    "(1 Point)"
   ]
  },
  {
   "cell_type": "markdown",
   "metadata": {
    "collapsed": true
   },
   "source": [
    "<p>\n",
    "<span style=\"color:blue\">\n",
    "The best accuracy is 60.085% which is obtained by the following configuration: <br>\n",
    "min_samples_split = 640 <br>\n",
    "min_samples_leaf = 280\n",
    "</span>\n",
    "</p>"
   ]
  },
  {
   "cell_type": "markdown",
   "metadata": {},
   "source": [
    "5\\. If you were working for a marketing department, how would you use your churn production model in a real business environment? Explain why churn prediction might be good for the business and how one might improve churn by using this model.\n",
    "\n",
    "(2 Points)"
   ]
  },
  {
   "cell_type": "markdown",
   "metadata": {},
   "source": [
    "<p>\n",
    "<span style=\"color:blue\">\n",
    "The churn production model can be a vital factor in policy or decision making process for most of the business environments. The churn model helps in obtaining the most relevant features that are a deciding factor for the churn, and using these features in the right way can help the company to avoid churning more customers.\n",
    "<br><br>\n",
    "If we consider a telecom provider like Verizon, they can use this churn model to predict and analyse the pattern for the customers who are leaving the company. If customers that are contributing more to the revenue of company, leave the company, then it indicates a high possibility of them not being satisfied with the service that is provided by the company. The company can use this data to improve the service in their region. On the other hand, there are some customers that feel the price of the service or product provided by the company is high. So the company can use this data to offer customized discounts to such customers on a periodic basis.\n",
    "<br><br>\n",
    "We can also consider an airline company, so an example for them could be that if their frequent customers who book first or business class tickets have recently stopped buying tickets from them, then the company should focus more on improving the services. Whereas if the frequent customers from economy class having recently stopped buying tickets, then it is highly likely that a discount offer or some other perk might interest those customers to start buying tickets from them.\n",
    "<br><br>\n",
    "Also, in some of the business environments, the age of the customer can be an important feature, so this data can be used to get adapt to new technologies can quickly help in fulfilling the customer's expectation, before they find an alternative. Hence, this model can be used to improve the churn by offering new products, improved service, and offer customized perks and discount coupons.\n",
    "</span>\n",
    "</p>"
   ]
  },
  {
   "cell_type": "markdown",
   "metadata": {
    "collapsed": true
   },
   "source": [
    "### Part 3 - Working with Time Series (Total 10 Points)\n",
    "Here we will analyze a timeseries of number of Yellow Fever cases from a specific Asian country by year. The data is from 1700 – 2008.\n",
    "\n"
   ]
  },
  {
   "cell_type": "markdown",
   "metadata": {},
   "source": [
    "1\\. Load the timeseries data set, and prepare the dataset by converting the variables to date-time format (hint: use date tools). (1 point)"
   ]
  },
  {
   "cell_type": "code",
   "execution_count": 8,
   "metadata": {},
   "outputs": [
    {
     "data": {
      "text/html": [
       "<div>\n",
       "<style>\n",
       "    .dataframe thead tr:only-child th {\n",
       "        text-align: right;\n",
       "    }\n",
       "\n",
       "    .dataframe thead th {\n",
       "        text-align: left;\n",
       "    }\n",
       "\n",
       "    .dataframe tbody tr th {\n",
       "        vertical-align: top;\n",
       "    }\n",
       "</style>\n",
       "<table border=\"1\" class=\"dataframe\">\n",
       "  <thead>\n",
       "    <tr style=\"text-align: right;\">\n",
       "      <th></th>\n",
       "      <th>YEAR</th>\n",
       "      <th>YFCASES</th>\n",
       "    </tr>\n",
       "  </thead>\n",
       "  <tbody>\n",
       "    <tr>\n",
       "      <th>0</th>\n",
       "      <td>1700-12-31</td>\n",
       "      <td>5.0</td>\n",
       "    </tr>\n",
       "    <tr>\n",
       "      <th>1</th>\n",
       "      <td>1701-12-31</td>\n",
       "      <td>11.0</td>\n",
       "    </tr>\n",
       "    <tr>\n",
       "      <th>2</th>\n",
       "      <td>1702-12-31</td>\n",
       "      <td>16.0</td>\n",
       "    </tr>\n",
       "    <tr>\n",
       "      <th>3</th>\n",
       "      <td>1703-12-31</td>\n",
       "      <td>23.0</td>\n",
       "    </tr>\n",
       "    <tr>\n",
       "      <th>4</th>\n",
       "      <td>1704-12-31</td>\n",
       "      <td>36.0</td>\n",
       "    </tr>\n",
       "    <tr>\n",
       "      <th>5</th>\n",
       "      <td>1705-12-31</td>\n",
       "      <td>58.0</td>\n",
       "    </tr>\n",
       "    <tr>\n",
       "      <th>6</th>\n",
       "      <td>1706-12-31</td>\n",
       "      <td>29.0</td>\n",
       "    </tr>\n",
       "    <tr>\n",
       "      <th>7</th>\n",
       "      <td>1707-12-31</td>\n",
       "      <td>20.0</td>\n",
       "    </tr>\n",
       "    <tr>\n",
       "      <th>8</th>\n",
       "      <td>1708-12-31</td>\n",
       "      <td>10.0</td>\n",
       "    </tr>\n",
       "    <tr>\n",
       "      <th>9</th>\n",
       "      <td>1709-12-31</td>\n",
       "      <td>8.0</td>\n",
       "    </tr>\n",
       "    <tr>\n",
       "      <th>10</th>\n",
       "      <td>1710-12-31</td>\n",
       "      <td>3.0</td>\n",
       "    </tr>\n",
       "    <tr>\n",
       "      <th>11</th>\n",
       "      <td>1711-12-31</td>\n",
       "      <td>0.0</td>\n",
       "    </tr>\n",
       "    <tr>\n",
       "      <th>12</th>\n",
       "      <td>1712-12-31</td>\n",
       "      <td>0.0</td>\n",
       "    </tr>\n",
       "    <tr>\n",
       "      <th>13</th>\n",
       "      <td>1713-12-31</td>\n",
       "      <td>2.0</td>\n",
       "    </tr>\n",
       "    <tr>\n",
       "      <th>14</th>\n",
       "      <td>1714-12-31</td>\n",
       "      <td>11.0</td>\n",
       "    </tr>\n",
       "    <tr>\n",
       "      <th>15</th>\n",
       "      <td>1715-12-31</td>\n",
       "      <td>27.0</td>\n",
       "    </tr>\n",
       "    <tr>\n",
       "      <th>16</th>\n",
       "      <td>1716-12-31</td>\n",
       "      <td>47.0</td>\n",
       "    </tr>\n",
       "    <tr>\n",
       "      <th>17</th>\n",
       "      <td>1717-12-31</td>\n",
       "      <td>63.0</td>\n",
       "    </tr>\n",
       "    <tr>\n",
       "      <th>18</th>\n",
       "      <td>1718-12-31</td>\n",
       "      <td>60.0</td>\n",
       "    </tr>\n",
       "    <tr>\n",
       "      <th>19</th>\n",
       "      <td>1719-12-31</td>\n",
       "      <td>39.0</td>\n",
       "    </tr>\n",
       "    <tr>\n",
       "      <th>20</th>\n",
       "      <td>1720-12-31</td>\n",
       "      <td>28.0</td>\n",
       "    </tr>\n",
       "    <tr>\n",
       "      <th>21</th>\n",
       "      <td>1721-12-31</td>\n",
       "      <td>26.0</td>\n",
       "    </tr>\n",
       "    <tr>\n",
       "      <th>22</th>\n",
       "      <td>1722-12-31</td>\n",
       "      <td>22.0</td>\n",
       "    </tr>\n",
       "    <tr>\n",
       "      <th>23</th>\n",
       "      <td>1723-12-31</td>\n",
       "      <td>11.0</td>\n",
       "    </tr>\n",
       "    <tr>\n",
       "      <th>24</th>\n",
       "      <td>1724-12-31</td>\n",
       "      <td>21.0</td>\n",
       "    </tr>\n",
       "    <tr>\n",
       "      <th>25</th>\n",
       "      <td>1725-12-31</td>\n",
       "      <td>40.0</td>\n",
       "    </tr>\n",
       "    <tr>\n",
       "      <th>26</th>\n",
       "      <td>1726-12-31</td>\n",
       "      <td>78.0</td>\n",
       "    </tr>\n",
       "    <tr>\n",
       "      <th>27</th>\n",
       "      <td>1727-12-31</td>\n",
       "      <td>122.0</td>\n",
       "    </tr>\n",
       "    <tr>\n",
       "      <th>28</th>\n",
       "      <td>1728-12-31</td>\n",
       "      <td>103.0</td>\n",
       "    </tr>\n",
       "    <tr>\n",
       "      <th>29</th>\n",
       "      <td>1729-12-31</td>\n",
       "      <td>73.0</td>\n",
       "    </tr>\n",
       "    <tr>\n",
       "      <th>...</th>\n",
       "      <td>...</td>\n",
       "      <td>...</td>\n",
       "    </tr>\n",
       "    <tr>\n",
       "      <th>279</th>\n",
       "      <td>1979-12-31</td>\n",
       "      <td>155.4</td>\n",
       "    </tr>\n",
       "    <tr>\n",
       "      <th>280</th>\n",
       "      <td>1980-12-31</td>\n",
       "      <td>154.6</td>\n",
       "    </tr>\n",
       "    <tr>\n",
       "      <th>281</th>\n",
       "      <td>1981-12-31</td>\n",
       "      <td>140.4</td>\n",
       "    </tr>\n",
       "    <tr>\n",
       "      <th>282</th>\n",
       "      <td>1982-12-31</td>\n",
       "      <td>115.9</td>\n",
       "    </tr>\n",
       "    <tr>\n",
       "      <th>283</th>\n",
       "      <td>1983-12-31</td>\n",
       "      <td>66.6</td>\n",
       "    </tr>\n",
       "    <tr>\n",
       "      <th>284</th>\n",
       "      <td>1984-12-31</td>\n",
       "      <td>45.9</td>\n",
       "    </tr>\n",
       "    <tr>\n",
       "      <th>285</th>\n",
       "      <td>1985-12-31</td>\n",
       "      <td>17.9</td>\n",
       "    </tr>\n",
       "    <tr>\n",
       "      <th>286</th>\n",
       "      <td>1986-12-31</td>\n",
       "      <td>13.4</td>\n",
       "    </tr>\n",
       "    <tr>\n",
       "      <th>287</th>\n",
       "      <td>1987-12-31</td>\n",
       "      <td>29.4</td>\n",
       "    </tr>\n",
       "    <tr>\n",
       "      <th>288</th>\n",
       "      <td>1988-12-31</td>\n",
       "      <td>100.2</td>\n",
       "    </tr>\n",
       "    <tr>\n",
       "      <th>289</th>\n",
       "      <td>1989-12-31</td>\n",
       "      <td>157.6</td>\n",
       "    </tr>\n",
       "    <tr>\n",
       "      <th>290</th>\n",
       "      <td>1990-12-31</td>\n",
       "      <td>142.6</td>\n",
       "    </tr>\n",
       "    <tr>\n",
       "      <th>291</th>\n",
       "      <td>1991-12-31</td>\n",
       "      <td>145.7</td>\n",
       "    </tr>\n",
       "    <tr>\n",
       "      <th>292</th>\n",
       "      <td>1992-12-31</td>\n",
       "      <td>94.3</td>\n",
       "    </tr>\n",
       "    <tr>\n",
       "      <th>293</th>\n",
       "      <td>1993-12-31</td>\n",
       "      <td>54.6</td>\n",
       "    </tr>\n",
       "    <tr>\n",
       "      <th>294</th>\n",
       "      <td>1994-12-31</td>\n",
       "      <td>29.9</td>\n",
       "    </tr>\n",
       "    <tr>\n",
       "      <th>295</th>\n",
       "      <td>1995-12-31</td>\n",
       "      <td>17.5</td>\n",
       "    </tr>\n",
       "    <tr>\n",
       "      <th>296</th>\n",
       "      <td>1996-12-31</td>\n",
       "      <td>8.6</td>\n",
       "    </tr>\n",
       "    <tr>\n",
       "      <th>297</th>\n",
       "      <td>1997-12-31</td>\n",
       "      <td>21.5</td>\n",
       "    </tr>\n",
       "    <tr>\n",
       "      <th>298</th>\n",
       "      <td>1998-12-31</td>\n",
       "      <td>64.3</td>\n",
       "    </tr>\n",
       "    <tr>\n",
       "      <th>299</th>\n",
       "      <td>1999-12-31</td>\n",
       "      <td>93.3</td>\n",
       "    </tr>\n",
       "    <tr>\n",
       "      <th>300</th>\n",
       "      <td>2000-12-31</td>\n",
       "      <td>119.6</td>\n",
       "    </tr>\n",
       "    <tr>\n",
       "      <th>301</th>\n",
       "      <td>2001-12-31</td>\n",
       "      <td>111.0</td>\n",
       "    </tr>\n",
       "    <tr>\n",
       "      <th>302</th>\n",
       "      <td>2002-12-31</td>\n",
       "      <td>104.0</td>\n",
       "    </tr>\n",
       "    <tr>\n",
       "      <th>303</th>\n",
       "      <td>2003-12-31</td>\n",
       "      <td>63.7</td>\n",
       "    </tr>\n",
       "    <tr>\n",
       "      <th>304</th>\n",
       "      <td>2004-12-31</td>\n",
       "      <td>40.4</td>\n",
       "    </tr>\n",
       "    <tr>\n",
       "      <th>305</th>\n",
       "      <td>2005-12-31</td>\n",
       "      <td>29.8</td>\n",
       "    </tr>\n",
       "    <tr>\n",
       "      <th>306</th>\n",
       "      <td>2006-12-31</td>\n",
       "      <td>15.2</td>\n",
       "    </tr>\n",
       "    <tr>\n",
       "      <th>307</th>\n",
       "      <td>2007-12-31</td>\n",
       "      <td>7.5</td>\n",
       "    </tr>\n",
       "    <tr>\n",
       "      <th>308</th>\n",
       "      <td>2008-12-31</td>\n",
       "      <td>2.9</td>\n",
       "    </tr>\n",
       "  </tbody>\n",
       "</table>\n",
       "<p>309 rows × 2 columns</p>\n",
       "</div>"
      ],
      "text/plain": [
       "          YEAR  YFCASES\n",
       "0   1700-12-31      5.0\n",
       "1   1701-12-31     11.0\n",
       "2   1702-12-31     16.0\n",
       "3   1703-12-31     23.0\n",
       "4   1704-12-31     36.0\n",
       "5   1705-12-31     58.0\n",
       "6   1706-12-31     29.0\n",
       "7   1707-12-31     20.0\n",
       "8   1708-12-31     10.0\n",
       "9   1709-12-31      8.0\n",
       "10  1710-12-31      3.0\n",
       "11  1711-12-31      0.0\n",
       "12  1712-12-31      0.0\n",
       "13  1713-12-31      2.0\n",
       "14  1714-12-31     11.0\n",
       "15  1715-12-31     27.0\n",
       "16  1716-12-31     47.0\n",
       "17  1717-12-31     63.0\n",
       "18  1718-12-31     60.0\n",
       "19  1719-12-31     39.0\n",
       "20  1720-12-31     28.0\n",
       "21  1721-12-31     26.0\n",
       "22  1722-12-31     22.0\n",
       "23  1723-12-31     11.0\n",
       "24  1724-12-31     21.0\n",
       "25  1725-12-31     40.0\n",
       "26  1726-12-31     78.0\n",
       "27  1727-12-31    122.0\n",
       "28  1728-12-31    103.0\n",
       "29  1729-12-31     73.0\n",
       "..         ...      ...\n",
       "279 1979-12-31    155.4\n",
       "280 1980-12-31    154.6\n",
       "281 1981-12-31    140.4\n",
       "282 1982-12-31    115.9\n",
       "283 1983-12-31     66.6\n",
       "284 1984-12-31     45.9\n",
       "285 1985-12-31     17.9\n",
       "286 1986-12-31     13.4\n",
       "287 1987-12-31     29.4\n",
       "288 1988-12-31    100.2\n",
       "289 1989-12-31    157.6\n",
       "290 1990-12-31    142.6\n",
       "291 1991-12-31    145.7\n",
       "292 1992-12-31     94.3\n",
       "293 1993-12-31     54.6\n",
       "294 1994-12-31     29.9\n",
       "295 1995-12-31     17.5\n",
       "296 1996-12-31      8.6\n",
       "297 1997-12-31     21.5\n",
       "298 1998-12-31     64.3\n",
       "299 1999-12-31     93.3\n",
       "300 2000-12-31    119.6\n",
       "301 2001-12-31    111.0\n",
       "302 2002-12-31    104.0\n",
       "303 2003-12-31     63.7\n",
       "304 2004-12-31     40.4\n",
       "305 2005-12-31     29.8\n",
       "306 2006-12-31     15.2\n",
       "307 2007-12-31      7.5\n",
       "308 2008-12-31      2.9\n",
       "\n",
       "[309 rows x 2 columns]"
      ]
     },
     "execution_count": 8,
     "metadata": {},
     "output_type": "execute_result"
    }
   ],
   "source": [
    "# importing the required package\n",
    "import pandas as pd\n",
    "from statsmodels.api import tsa\n",
    "\n",
    "# loading the data set into a Pandas DataFrame\n",
    "df = pd.read_csv('cases.csv')\n",
    "# converting the variables to date-time format\n",
    "df[\"YEAR\"] = pd.Index(tsa.datetools.dates_from_range('1700', '2008'))\n",
    "\n",
    "# another alternative to convert the variables to date-time format\n",
    "# df[\"YEAR\"] = pd.to_datetime(df[\"YEAR\"], format='%Y')\n",
    "# df[\"Time\"] = df[\"YEAR\"].dt.time\n",
    "\n",
    "df"
   ]
  },
  {
   "cell_type": "markdown",
   "metadata": {},
   "source": [
    "2\\. Plot the autocorrelation function (ACF) and partial autocorrelation function (PCF) of the cases timeseries. (1 point)"
   ]
  },
  {
   "cell_type": "code",
   "execution_count": 9,
   "metadata": {},
   "outputs": [
    {
     "data": {
      "image/png": "[encoded data removed]",
      "text/plain": [
       "<matplotlib.figure.Figure at 0x24b8173ce48>"
      ]
     },
     "metadata": {},
     "output_type": "display_data"
    },
    {
     "data": {
      "image/png": "[encoded data removed]",
      "text/plain": [
       "<matplotlib.figure.Figure at 0x24bffb76e10>"
      ]
     },
     "metadata": {},
     "output_type": "display_data"
    }
   ],
   "source": [
    "from pandas import Series\n",
    "from matplotlib import pyplot\n",
    "from statsmodels.graphics.tsaplots import plot_pacf\n",
    "from statsmodels.graphics.tsaplots import plot_acf\n",
    "\n",
    "series = Series.from_csv('cases.csv', header=0)\n",
    "\n",
    "plot_acf(series)\n",
    "pyplot.show()\n",
    "\n",
    "# setting lags = 50 so that the graph plot can be easily analysed\n",
    "plot_pacf(series, lags=50)\n",
    "pyplot.show()"
   ]
  },
  {
   "cell_type": "markdown",
   "metadata": {},
   "source": [
    "3\\. Describe what the plots indicate (in terms of autocorrelation and autoregressive parameter (p) and moving average (q)). 2 points.\n",
    "Some rules of thumb to recall:<br>\n",
    "Rule 1: If the ACF shows exponential decay, the PACF has a spike at lag 1, and no correlation for other lags, then use one autoregressive (p)parameter <br>\n",
    "Rule 2: If the ACF shows a sine-wave shape pattern or a set of exponential decays, the PACF has spikes at lags 1 and 2, and no correlation for other lags, the use two autoregressive (p) parameters. <br>\n",
    "Rule 3: If the ACF has a spike at lag 1, no correlation for other lags, and the PACF damps out exponentially, then use one moving average (q) parameter. <br>\n",
    "Rule 4: If the ACF has spikes at lags 1 and 2, no correlation for other lags, and the PACF has a sine-wave shape pattern or a set of exponential decays, then use two moving average (q) parameter.<br>\n",
    "Rule 5: If the ACF shows exponential decay starting at lag 1, and the PACF shows exponential decay starting at lag 1, then use one autoregressive (p) and one moving average (q) parameter.<br>\n"
   ]
  },
  {
   "cell_type": "markdown",
   "metadata": {},
   "source": [
    "<p>\n",
    "<span style=\"color:blue\">\n",
    "The autocorrelation (ACF) plot indicates a sine-wave shape pattern with 0.00 value occuring at about 75, then 160 and finally at 300. The partial autocorrelation (PACF) plot indicates no correlation except for spikes at lags 1 amd 2. This makes the value of autoregressive (p) parameter = 2, and moving average (q) parameter = 0. This verfies Rule 2 is followed by the given daatset 'cases.csv'. This makes the model as ARMA(2,0) with two autoregressive terms and no moving averages.\n",
    "</span>\n",
    "</p>"
   ]
  },
  {
   "cell_type": "markdown",
   "metadata": {},
   "source": [
    "4\\. Another approach to assessing the presence of autocorrelation is by using the  Durbin-Waton (DW) statistic. The value of the DW statistic is close to 2 if the errors are uncorrelated. What is DW for our data, and does this match what you observed from the ACF and PCF plots? (1 point) "
   ]
  },
  {
   "cell_type": "code",
   "execution_count": 10,
   "metadata": {},
   "outputs": [
    {
     "name": "stdout",
     "output_type": "stream",
     "text": [
      "Durbin Watson value :  0.139528926599\n",
      "\n",
      "The Durbin-Waston (DW) value for our data is 0.139528926599\n",
      "As the value is very less than 2, it indicates the presence of autocorrelation and signifies that the errors are correlated.\n",
      "This does match from what I observed from the ACF and PCF plots.\n"
     ]
    }
   ],
   "source": [
    "from statsmodels.stats.stattools import durbin_watson\n",
    "dw = durbin_watson(series)\n",
    "\n",
    "print(\"Durbin Watson value : \", dw)\n",
    "print()\n",
    "print(\"The Durbin-Waston (DW) value for our data is\", dw)\n",
    "print(\"As the value is very less than 2, it indicates the presence of autocorrelation and signifies that the errors are correlated.\")\n",
    "print(\"This does match from what I observed from the ACF and PCF plots.\")"
   ]
  },
  {
   "cell_type": "markdown",
   "metadata": {},
   "source": [
    "5\\. Removing serial dependency by modeling a simple ARMA process with p and q as derived above. Take a look at what the resulting process looks like (plot) (1 point)\n"
   ]
  },
  {
   "cell_type": "code",
   "execution_count": 11,
   "metadata": {},
   "outputs": [
    {
     "data": {
      "image/png": "[encoded data removed]",
      "text/plain": [
       "<matplotlib.figure.Figure at 0x24b818e1780>"
      ]
     },
     "metadata": {},
     "output_type": "display_data"
    }
   ],
   "source": [
    "from statsmodels.tsa.arima_model import ARMA\n",
    "from matplotlib import pyplot as plt\n",
    "\n",
    "# slicing only the first 295 values (i.e. till the year 1994) for fitting the model,\n",
    "# as I will be predicting the values from the year 1995 in question number 8.\n",
    "model = ARMA(series[1:295], (2,0))\n",
    "model_fit = model.fit()\n",
    "\n",
    "residuals = model_fit.resid\n",
    "residuals.plot()\n",
    "plt.show()"
   ]
  },
  {
   "cell_type": "markdown",
   "metadata": {
    "collapsed": true
   },
   "source": [
    "6\\. Calculate the residuals, and test the null hypothesis that the residuals come from a normal distribution, and construct a qq-plot. Do the results of the hypothesis test and qq-plot align? (1 point)\n",
    "\n"
   ]
  },
  {
   "cell_type": "code",
   "execution_count": 12,
   "metadata": {
    "scrolled": true
   },
   "outputs": [
    {
     "name": "stdout",
     "output_type": "stream",
     "text": [
      "NormaltestResult(statistic=42.27884831203626, pvalue=6.595758387833176e-10)\n"
     ]
    },
    {
     "data": {
      "image/png": "[encoded data removed]",
      "text/plain": [
       "<matplotlib.figure.Figure at 0x24b81891fd0>"
      ]
     },
     "metadata": {},
     "output_type": "display_data"
    }
   ],
   "source": [
    "from scipy import stats\n",
    "from statsmodels.graphics.api import qqplot\n",
    "\n",
    "print(stats.normaltest(residuals))\n",
    "\n",
    "fig = qqplot(residuals, line='q', fit=True)\n",
    "plt.show()"
   ]
  },
  {
   "cell_type": "markdown",
   "metadata": {},
   "source": [
    "<p>\n",
    "<span style=\"color:blue\">\n",
    "The results from the qq-plot and hypothesis test signify that the residuals do not come from a normal distribution. This is also verfied from the qqplot by the drift in the values as they go on increasing. The pvalue which comes to be 6.59576e-10, indicating that the probability can be considered as negligible.\n",
    "</span>\n",
    "</p>\n"
   ]
  },
  {
   "cell_type": "markdown",
   "metadata": {},
   "source": [
    "7\\. Now investigate the autocorrelation of your ARMA(p,q) model. Did it improve?\n",
    "These can be examined graphically, but a statistic will help.\n",
    "Next, we calculate the lag, autocorrelation (AC), Q statistic and Prob>Q. \n",
    "The Ljung–Box Q test is a type of statistical test of whether any of a group of autocorrelations of a time series are different from zero. The null hypothesis is, H0: The data are independently distributed (i.e. the correlations in the population from which the sample is taken are 0, so that any observed correlations in the data result from randomness of the sampling process). (Hint: use qstat in tsa.acf).\n"
   ]
  },
  {
   "cell_type": "code",
   "execution_count": 13,
   "metadata": {},
   "outputs": [
    {
     "name": "stdout",
     "output_type": "stream",
     "text": [
      "Durbin Watson value : 2.14005974438\n"
     ]
    },
    {
     "data": {
      "text/html": [
       "<div>\n",
       "<style>\n",
       "    .dataframe thead tr:only-child th {\n",
       "        text-align: right;\n",
       "    }\n",
       "\n",
       "    .dataframe thead th {\n",
       "        text-align: left;\n",
       "    }\n",
       "\n",
       "    .dataframe tbody tr th {\n",
       "        vertical-align: top;\n",
       "    }\n",
       "</style>\n",
       "<table border=\"1\" class=\"dataframe\">\n",
       "  <thead>\n",
       "    <tr style=\"text-align: right;\">\n",
       "      <th></th>\n",
       "      <th>autocorrelation AC</th>\n",
       "      <th>Q statistic</th>\n",
       "      <th>Prob(&gt;Q)</th>\n",
       "    </tr>\n",
       "    <tr>\n",
       "      <th>lag</th>\n",
       "      <th></th>\n",
       "      <th></th>\n",
       "      <th></th>\n",
       "    </tr>\n",
       "  </thead>\n",
       "  <tbody>\n",
       "    <tr>\n",
       "      <th>1.0</th>\n",
       "      <td>-0.079049</td>\n",
       "      <td>1.855919</td>\n",
       "      <td>0.173097</td>\n",
       "    </tr>\n",
       "    <tr>\n",
       "      <th>2.0</th>\n",
       "      <td>0.099641</td>\n",
       "      <td>4.814862</td>\n",
       "      <td>0.090046</td>\n",
       "    </tr>\n",
       "    <tr>\n",
       "      <th>3.0</th>\n",
       "      <td>-0.026170</td>\n",
       "      <td>5.019681</td>\n",
       "      <td>0.170362</td>\n",
       "    </tr>\n",
       "    <tr>\n",
       "      <th>4.0</th>\n",
       "      <td>0.079192</td>\n",
       "      <td>6.901603</td>\n",
       "      <td>0.141180</td>\n",
       "    </tr>\n",
       "    <tr>\n",
       "      <th>5.0</th>\n",
       "      <td>0.045528</td>\n",
       "      <td>7.525756</td>\n",
       "      <td>0.184382</td>\n",
       "    </tr>\n",
       "    <tr>\n",
       "      <th>6.0</th>\n",
       "      <td>0.011039</td>\n",
       "      <td>7.562581</td>\n",
       "      <td>0.271932</td>\n",
       "    </tr>\n",
       "    <tr>\n",
       "      <th>7.0</th>\n",
       "      <td>0.043121</td>\n",
       "      <td>8.126398</td>\n",
       "      <td>0.321580</td>\n",
       "    </tr>\n",
       "    <tr>\n",
       "      <th>8.0</th>\n",
       "      <td>-0.016308</td>\n",
       "      <td>8.207317</td>\n",
       "      <td>0.413485</td>\n",
       "    </tr>\n",
       "    <tr>\n",
       "      <th>9.0</th>\n",
       "      <td>0.179453</td>\n",
       "      <td>18.040541</td>\n",
       "      <td>0.034706</td>\n",
       "    </tr>\n",
       "    <tr>\n",
       "      <th>10.0</th>\n",
       "      <td>0.197617</td>\n",
       "      <td>30.007064</td>\n",
       "      <td>0.000854</td>\n",
       "    </tr>\n",
       "    <tr>\n",
       "      <th>11.0</th>\n",
       "      <td>0.168410</td>\n",
       "      <td>38.728548</td>\n",
       "      <td>0.000059</td>\n",
       "    </tr>\n",
       "    <tr>\n",
       "      <th>12.0</th>\n",
       "      <td>0.132829</td>\n",
       "      <td>44.173286</td>\n",
       "      <td>0.000014</td>\n",
       "    </tr>\n",
       "    <tr>\n",
       "      <th>13.0</th>\n",
       "      <td>-0.027358</td>\n",
       "      <td>44.405073</td>\n",
       "      <td>0.000026</td>\n",
       "    </tr>\n",
       "    <tr>\n",
       "      <th>14.0</th>\n",
       "      <td>0.002864</td>\n",
       "      <td>44.407622</td>\n",
       "      <td>0.000051</td>\n",
       "    </tr>\n",
       "    <tr>\n",
       "      <th>15.0</th>\n",
       "      <td>-0.046605</td>\n",
       "      <td>45.085118</td>\n",
       "      <td>0.000074</td>\n",
       "    </tr>\n",
       "    <tr>\n",
       "      <th>16.0</th>\n",
       "      <td>0.018344</td>\n",
       "      <td>45.190452</td>\n",
       "      <td>0.000130</td>\n",
       "    </tr>\n",
       "    <tr>\n",
       "      <th>17.0</th>\n",
       "      <td>0.023950</td>\n",
       "      <td>45.370659</td>\n",
       "      <td>0.000214</td>\n",
       "    </tr>\n",
       "    <tr>\n",
       "      <th>18.0</th>\n",
       "      <td>-0.072815</td>\n",
       "      <td>47.042393</td>\n",
       "      <td>0.000209</td>\n",
       "    </tr>\n",
       "    <tr>\n",
       "      <th>19.0</th>\n",
       "      <td>0.073230</td>\n",
       "      <td>48.739426</td>\n",
       "      <td>0.000200</td>\n",
       "    </tr>\n",
       "    <tr>\n",
       "      <th>20.0</th>\n",
       "      <td>-0.015846</td>\n",
       "      <td>48.819180</td>\n",
       "      <td>0.000326</td>\n",
       "    </tr>\n",
       "    <tr>\n",
       "      <th>21.0</th>\n",
       "      <td>0.081174</td>\n",
       "      <td>50.919596</td>\n",
       "      <td>0.000271</td>\n",
       "    </tr>\n",
       "    <tr>\n",
       "      <th>22.0</th>\n",
       "      <td>0.131099</td>\n",
       "      <td>56.418438</td>\n",
       "      <td>0.000074</td>\n",
       "    </tr>\n",
       "    <tr>\n",
       "      <th>23.0</th>\n",
       "      <td>0.087997</td>\n",
       "      <td>58.905022</td>\n",
       "      <td>0.000055</td>\n",
       "    </tr>\n",
       "    <tr>\n",
       "      <th>24.0</th>\n",
       "      <td>-0.079488</td>\n",
       "      <td>60.941481</td>\n",
       "      <td>0.000047</td>\n",
       "    </tr>\n",
       "    <tr>\n",
       "      <th>25.0</th>\n",
       "      <td>0.024672</td>\n",
       "      <td>61.138410</td>\n",
       "      <td>0.000073</td>\n",
       "    </tr>\n",
       "    <tr>\n",
       "      <th>26.0</th>\n",
       "      <td>-0.055258</td>\n",
       "      <td>62.129903</td>\n",
       "      <td>0.000086</td>\n",
       "    </tr>\n",
       "    <tr>\n",
       "      <th>27.0</th>\n",
       "      <td>-0.111118</td>\n",
       "      <td>66.154231</td>\n",
       "      <td>0.000039</td>\n",
       "    </tr>\n",
       "    <tr>\n",
       "      <th>28.0</th>\n",
       "      <td>0.021161</td>\n",
       "      <td>66.300727</td>\n",
       "      <td>0.000060</td>\n",
       "    </tr>\n",
       "    <tr>\n",
       "      <th>29.0</th>\n",
       "      <td>-0.030339</td>\n",
       "      <td>66.602996</td>\n",
       "      <td>0.000087</td>\n",
       "    </tr>\n",
       "    <tr>\n",
       "      <th>30.0</th>\n",
       "      <td>-0.009128</td>\n",
       "      <td>66.630464</td>\n",
       "      <td>0.000135</td>\n",
       "    </tr>\n",
       "    <tr>\n",
       "      <th>31.0</th>\n",
       "      <td>0.004625</td>\n",
       "      <td>66.637542</td>\n",
       "      <td>0.000208</td>\n",
       "    </tr>\n",
       "    <tr>\n",
       "      <th>32.0</th>\n",
       "      <td>0.098354</td>\n",
       "      <td>69.850653</td>\n",
       "      <td>0.000124</td>\n",
       "    </tr>\n",
       "    <tr>\n",
       "      <th>33.0</th>\n",
       "      <td>0.034689</td>\n",
       "      <td>70.251884</td>\n",
       "      <td>0.000168</td>\n",
       "    </tr>\n",
       "    <tr>\n",
       "      <th>34.0</th>\n",
       "      <td>0.027654</td>\n",
       "      <td>70.507853</td>\n",
       "      <td>0.000235</td>\n",
       "    </tr>\n",
       "    <tr>\n",
       "      <th>35.0</th>\n",
       "      <td>0.002534</td>\n",
       "      <td>70.510010</td>\n",
       "      <td>0.000349</td>\n",
       "    </tr>\n",
       "    <tr>\n",
       "      <th>36.0</th>\n",
       "      <td>-0.107582</td>\n",
       "      <td>74.413909</td>\n",
       "      <td>0.000174</td>\n",
       "    </tr>\n",
       "    <tr>\n",
       "      <th>37.0</th>\n",
       "      <td>-0.055873</td>\n",
       "      <td>75.471010</td>\n",
       "      <td>0.000192</td>\n",
       "    </tr>\n",
       "    <tr>\n",
       "      <th>38.0</th>\n",
       "      <td>-0.046357</td>\n",
       "      <td>76.201526</td>\n",
       "      <td>0.000232</td>\n",
       "    </tr>\n",
       "    <tr>\n",
       "      <th>39.0</th>\n",
       "      <td>-0.032431</td>\n",
       "      <td>76.560460</td>\n",
       "      <td>0.000307</td>\n",
       "    </tr>\n",
       "    <tr>\n",
       "      <th>40.0</th>\n",
       "      <td>0.006188</td>\n",
       "      <td>76.573579</td>\n",
       "      <td>0.000441</td>\n",
       "    </tr>\n",
       "  </tbody>\n",
       "</table>\n",
       "</div>"
      ],
      "text/plain": [
       "      autocorrelation AC  Q statistic  Prob(>Q)\n",
       "lag                                            \n",
       "1.0            -0.079049     1.855919  0.173097\n",
       "2.0             0.099641     4.814862  0.090046\n",
       "3.0            -0.026170     5.019681  0.170362\n",
       "4.0             0.079192     6.901603  0.141180\n",
       "5.0             0.045528     7.525756  0.184382\n",
       "6.0             0.011039     7.562581  0.271932\n",
       "7.0             0.043121     8.126398  0.321580\n",
       "8.0            -0.016308     8.207317  0.413485\n",
       "9.0             0.179453    18.040541  0.034706\n",
       "10.0            0.197617    30.007064  0.000854\n",
       "11.0            0.168410    38.728548  0.000059\n",
       "12.0            0.132829    44.173286  0.000014\n",
       "13.0           -0.027358    44.405073  0.000026\n",
       "14.0            0.002864    44.407622  0.000051\n",
       "15.0           -0.046605    45.085118  0.000074\n",
       "16.0            0.018344    45.190452  0.000130\n",
       "17.0            0.023950    45.370659  0.000214\n",
       "18.0           -0.072815    47.042393  0.000209\n",
       "19.0            0.073230    48.739426  0.000200\n",
       "20.0           -0.015846    48.819180  0.000326\n",
       "21.0            0.081174    50.919596  0.000271\n",
       "22.0            0.131099    56.418438  0.000074\n",
       "23.0            0.087997    58.905022  0.000055\n",
       "24.0           -0.079488    60.941481  0.000047\n",
       "25.0            0.024672    61.138410  0.000073\n",
       "26.0           -0.055258    62.129903  0.000086\n",
       "27.0           -0.111118    66.154231  0.000039\n",
       "28.0            0.021161    66.300727  0.000060\n",
       "29.0           -0.030339    66.602996  0.000087\n",
       "30.0           -0.009128    66.630464  0.000135\n",
       "31.0            0.004625    66.637542  0.000208\n",
       "32.0            0.098354    69.850653  0.000124\n",
       "33.0            0.034689    70.251884  0.000168\n",
       "34.0            0.027654    70.507853  0.000235\n",
       "35.0            0.002534    70.510010  0.000349\n",
       "36.0           -0.107582    74.413909  0.000174\n",
       "37.0           -0.055873    75.471010  0.000192\n",
       "38.0           -0.046357    76.201526  0.000232\n",
       "39.0           -0.032431    76.560460  0.000307\n",
       "40.0            0.006188    76.573579  0.000441"
      ]
     },
     "execution_count": 13,
     "metadata": {},
     "output_type": "execute_result"
    }
   ],
   "source": [
    "from statsmodels.api import tsa\n",
    "import numpy as np\n",
    "\n",
    "print(\"Durbin Watson value :\", durbin_watson(residuals))\n",
    "\n",
    "r,q,p = tsa.acf(residuals.values.squeeze(), qstat=True)\n",
    "stat = np.c_[range(1,41), r[1:], q, p]\n",
    "result = pd.DataFrame(stat, columns=[\"lag\", \"autocorrelation AC\", \"Q statistic\", \"Prob(>Q)\"])\n",
    "result.set_index(\"lag\")"
   ]
  },
  {
   "cell_type": "markdown",
   "metadata": {},
   "source": [
    "<p>\n",
    "<span style=\"color:blue\">\n",
    "The autocorrelation of the ARMA(p,q) model has improved as the value of Durbin Watson is now 2.14 which is closer to 2. This indicates that the errors are uncorrelated and there is no presence of autocorrelation in the residual data.\n",
    "</span>\n",
    "</p>"
   ]
  },
  {
   "cell_type": "markdown",
   "metadata": {
    "collapsed": true
   },
   "source": [
    "8\\. Compute prediction for years 2009-2012 and analyze their fit against actual values. (1 point)\n",
    "\n"
   ]
  },
  {
   "cell_type": "code",
   "execution_count": 14,
   "metadata": {},
   "outputs": [
    {
     "data": {
      "image/png": "[encoded data removed]",
      "text/plain": [
       "<matplotlib.figure.Figure at 0x24b817a4c18>"
      ]
     },
     "metadata": {},
     "output_type": "display_data"
    }
   ],
   "source": [
    "# predicting the values of YFCASES for the years 1995 to 2008 and fitting them against actual values from the given dataset.\n",
    "pred = model_fit.predict('1995', '2008', dynamic=True)\n",
    "\n",
    "graph = series.plot()\n",
    "graph = pred.plot(ax=graph, style='r', label='Dynamic Prediction');\n",
    "graph.legend()\n",
    "graph.axis((-100, 40, 0, 200))\n",
    "\n",
    "# The red color in the graph shows the predicted values from the year 1995 which is analysed\n",
    "# against the actual values from the dataset (shown in blue color in the graph below)\n",
    "\n",
    "plt.show()"
   ]
  },
  {
   "cell_type": "markdown",
   "metadata": {},
   "source": [
    "9\\. Calculate the forecast error via MAE and MFE.  (2 points)\n",
    "Reminders:\n",
    "Mean absolute error: The mean absolute error (MAE) value is computed as the average absolute error value. If MAE is zero the forecast is perfect. As compared to the mean squared error (MSE), this measure of fit “de-emphasizes” outliers (unique or rare large error values will affect the MAE less than the MSE.\n",
    "\n",
    "Mean Forecast Error (MFE, also known as Bias). The MFE is the average error in the observations. A large positive MFE means that the forecast is undershooting the actual observations. A large negative MFE means the forecast is overshooting the actual observations. A value near zero is ideal, and generally a small value means a pretty good fit. \n",
    "\n",
    "The MAE is a better indicator of fit than the MFE.\n",
    "\n"
   ]
  },
  {
   "cell_type": "code",
   "execution_count": 15,
   "metadata": {},
   "outputs": [
    {
     "name": "stdout",
     "output_type": "stream",
     "text": [
      "Mean Forecast Error = 4.602150057001623\n",
      "Mean Absolute Error = 0.1153729313228569\n"
     ]
    }
   ],
   "source": [
    "mean_forecast_error = series.sub(pred).mean()\n",
    "mean_absolute_error = np.mean((np.abs(series.sub(pred).mean()) / pred))\n",
    "\n",
    "print(\"Mean Forecast Error =\", mean_forecast_error)\n",
    "print(\"Mean Absolute Error =\", mean_absolute_error)"
   ]
  },
  {
   "cell_type": "code",
   "execution_count": null,
   "metadata": {
    "collapsed": true
   },
   "outputs": [],
   "source": []
  }
 ],
 "metadata": {
  "kernelspec": {
   "display_name": "Python 3",
   "language": "python",
   "name": "python3"
  },
  "language_info": {
   "codemirror_mode": {
    "name": "ipython",
    "version": 3
   },
   "file_extension": ".py",
   "mimetype": "text/x-python",
   "name": "python",
   "nbconvert_exporter": "python",
   "pygments_lexer": "ipython3",
   "version": "3.6.1"
  }
 },
 "nbformat": 4,
 "nbformat_minor": 1
}
